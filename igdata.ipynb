{
 "cells": [
  {
   "cell_type": "code",
   "execution_count": 1,
   "metadata": {},
   "outputs": [],
   "source": [
    "import os\n",
    "import re\n",
    "import datetime\n",
    "import pandas as pd\n",
    "import numpy as np\n",
    "import matplotlib.pyplot as plt"
   ]
  },
  {
   "cell_type": "code",
   "execution_count": 2,
   "metadata": {},
   "outputs": [],
   "source": [
    "filename_them = '/Users/haelyshah/Downloads/haelyshah_20210607/followers_and_following/followers.json'\n",
    "with open(filename_them) as f:\n",
    "    followers = f.readlines()"
   ]
  },
  {
   "cell_type": "code",
   "execution_count": 3,
   "metadata": {},
   "outputs": [],
   "source": [
    "filename_me = '/Users/haelyshah/Downloads/haelyshah_20210607/followers_and_following/following.json'\n",
    "with open(filename_me) as f:\n",
    "    following = f.readlines()"
   ]
  },
  {
   "cell_type": "code",
   "execution_count": 6,
   "metadata": {},
   "outputs": [],
   "source": [
    "followers_list = []\n",
    "import time \n",
    "import datetime \n",
    " \n",
    "for follower in followers:\n",
    "    #print(follower)\n",
    "    #followers_list = []\n",
    "    follower_i = follower.find('value')\n",
    "    follower_name = str(follower[follower_i: follower_i+25])\n",
    "\n",
    "    #follower_name = (follower.get('string_list_data', {}).get('value'))\n",
    "    \n",
    "    \n",
    "    #print(follower_name)\n",
    "    followers_list.append(follower_name)\n",
    "followers_list=set(followers_list)\n",
    "followers_list=list(followers_list)"
   ]
  },
  {
   "cell_type": "code",
   "execution_count": 7,
   "metadata": {},
   "outputs": [
    {
     "data": {
      "text/plain": [
       "420"
      ]
     },
     "execution_count": 7,
     "metadata": {},
     "output_type": "execute_result"
    }
   ],
   "source": [
    "len(followers_list)"
   ]
  },
  {
   "cell_type": "code",
   "execution_count": null,
   "metadata": {},
   "outputs": [],
   "source": []
  },
  {
   "cell_type": "code",
   "execution_count": 8,
   "metadata": {},
   "outputs": [],
   "source": [
    "following_list = []\n",
    "import time \n",
    "import datetime \n",
    " \n",
    "for follower in following:\n",
    "    #print(follower)\n",
    "    #followers_list = []\n",
    "    follower_i = follower.find('value')\n",
    "    follower_name = str(follower[follower_i: follower_i+25])\n",
    "\n",
    "    #follower_name = (follower.get('string_list_data', {}).get('value'))\n",
    "    \n",
    "    \n",
    "    # print(follower_name)\n",
    "    following_list.append(follower_name)\n",
    "following_list=set(following_list)\n",
    "following_list=list(following_list)"
   ]
  },
  {
   "cell_type": "code",
   "execution_count": 9,
   "metadata": {},
   "outputs": [
    {
     "data": {
      "text/plain": [
       "509"
      ]
     },
     "execution_count": 9,
     "metadata": {},
     "output_type": "execute_result"
    }
   ],
   "source": [
    "len(following_list)"
   ]
  },
  {
   "cell_type": "code",
   "execution_count": 10,
   "metadata": {},
   "outputs": [],
   "source": [
    "dont_follow_back = set(following_list).difference(followers_list)"
   ]
  },
  {
   "cell_type": "code",
   "execution_count": 63,
   "metadata": {},
   "outputs": [
    {
     "data": {
      "text/plain": [
       "94"
      ]
     },
     "execution_count": 63,
     "metadata": {},
     "output_type": "execute_result"
    }
   ],
   "source": [
    "dont_follow_back = list(dont_follow_back)\n",
    "len(dont_follow_back)"
   ]
  },
  {
   "cell_type": "code",
   "execution_count": 67,
   "metadata": {},
   "outputs": [
    {
     "data": {
      "text/plain": [
       "['value\": \"vibhutitandel\",\\n',\n",
       " 'value\": \"dodh_dahyo\",\\n',\n",
       " 'value\": \"travelforboba\",\\n',\n",
       " 'value\": \"mengxuan3242\",\\n',\n",
       " 'value\": \"raydaos_\",\\n',\n",
       " 'value\": \"sm2ahesh\",\\n',\n",
       " 'value\": \"_apekshaa_\",\\n',\n",
       " 'value\": \"the.flattened.fl',\n",
       " 'value\": \"reddit.thingg\",\\n',\n",
       " 'value\": \"neeshithasudhaka',\n",
       " 'value\": \"shahvarshak\",\\n',\n",
       " 'value\": \"thequotes_feed\",',\n",
       " 'value\": \"misslittlehits\",',\n",
       " 'value\": \"fusedesign_\",\\n',\n",
       " 'value\": \"ritzi_13\",\\n',\n",
       " 'value\": \"karindimitrovova',\n",
       " 'value\": \"internationalbal',\n",
       " 'value\": \"kapasi.huzaifa\",',\n",
       " 'value\": \"mirilleen\",\\n',\n",
       " 'value\": \"makwana.jigar\",\\n',\n",
       " 'value\": \"sfbucketlist\",\\n',\n",
       " 'value\": \"anurag.mittal.0\"',\n",
       " 'value\": \"stevint\",\\n',\n",
       " 'value\": \"happinesspasspor',\n",
       " 'value\": \"alpatalaticreati',\n",
       " 'value\": \"eat.binge.repeat',\n",
       " 'value\": \"wildlifecollecti',\n",
       " 'value\": \"poetryandpostcar',\n",
       " 'value\": \"verybritishprobl',\n",
       " 'value\": \"wayfarers.empori',\n",
       " 'value\": \"vaibhav_1811\",\\n',\n",
       " 'value\": \"thatbabyluv\",\\n',\n",
       " 'value\": \"kruti.thanki\",\\n',\n",
       " 'value\": \"mann.shah17\",\\n',\n",
       " 'value\": \"chai_pee_charcha',\n",
       " 'value\": \"voyagercraftcoff',\n",
       " 'value\": \"pixelated__shots',\n",
       " 'value\": \"shah_smit\",\\n',\n",
       " 'value\": \"musicaltalesofkh',\n",
       " 'value\": \"kananseju\",\\n',\n",
       " 'value\": \"yogapractice\",\\n',\n",
       " 'value\": \"simple.switch\",\\n',\n",
       " 'value\": \"tomocchino\",\\n',\n",
       " 'value\": \"amy_000001\",\\n',\n",
       " 'value\": \"naturesicecream\"',\n",
       " 'value\": \"manc_v\",\\n',\n",
       " 'value\": \"thefoodiepact\",\\n',\n",
       " 'value\": \"rashmi.shah.9400',\n",
       " 'value\": \"slamdoni\",\\n',\n",
       " 'value\": \"bucketlistbums\",',\n",
       " 'value\": \"mosseri\",\\n',\n",
       " 'value\": \"techbridgegirls\"',\n",
       " 'value\": \"harsha_a_agrawal',\n",
       " 'value\": \"oliveremberton\",',\n",
       " 'value\": \"padmaja_amin\",\\n',\n",
       " 'value\": \"niralitandel2\",\\n',\n",
       " 'value\": \"rajvi2104\",\\n',\n",
       " 'value\": \"swareenameenadee',\n",
       " 'value\": \"n.s.vakani\",\\n',\n",
       " 'value\": \"priyankapatel03\"',\n",
       " 'value\": \"bodahyo\",\\n',\n",
       " 'value\": \"thatdesifeminist',\n",
       " 'value\": \"anevanescentsere',\n",
       " 'value\": \"artleavesamark\",',\n",
       " 'value\": \"aditimodi21\",\\n',\n",
       " 'value\": \"ottersonboard\",\\n',\n",
       " 'value\": \"nirav.shah.906\",',\n",
       " 'value\": \"jobakamedia\",\\n',\n",
       " 'value\": \"kaushalimalaviya',\n",
       " 'value\": \"san_jose_memes\",',\n",
       " 'value\": \"rogue.catt\",\\n',\n",
       " 'value\": \"kunal0895\",\\n',\n",
       " 'value\": \"peekaye\",\\n',\n",
       " 'value\": \"karthikeya_remil',\n",
       " 'value\": \"bridgalidge\",\\n',\n",
       " 'value\": \"anushakgupta\",\\n',\n",
       " 'value\": \"nidhi_the_yogini',\n",
       " 'value\": \"globeinworld\",\\n',\n",
       " 'value\": \"sjtoastmasters\",',\n",
       " 'value\": \"spartanhyperloop',\n",
       " 'value\": \"jinmiran_\",\\n',\n",
       " 'value\": \"brindatailorphot',\n",
       " 'value\": \"mary_khankar\",\\n',\n",
       " 'value\": \"starterpacks_onl',\n",
       " 'value\": \"ruskinbondoffici',\n",
       " 'value\": \"then.lifehappene',\n",
       " 'value\": \"ishalogue\",\\n',\n",
       " 'value\": \"the_nvc\",\\n',\n",
       " 'value\": \"poetryisnotaluxu',\n",
       " 'value\": \"surbhi.rjain\",\\n',\n",
       " 'value\": \"nerdymiraclek\",\\n',\n",
       " 'value\": \"gujju_quotes\",\\n',\n",
       " 'value\": \"angels_illustrat',\n",
       " 'value\": \"atmanam_music\",\\n']"
      ]
     },
     "execution_count": 67,
     "metadata": {},
     "output_type": "execute_result"
    }
   ],
   "source": [
    "dont_follow_back"
   ]
  },
  {
   "cell_type": "code",
   "execution_count": 64,
   "metadata": {},
   "outputs": [],
   "source": [
    "idont_follow = set(followers_list).difference(following_list)"
   ]
  },
  {
   "cell_type": "code",
   "execution_count": 65,
   "metadata": {},
   "outputs": [
    {
     "data": {
      "text/plain": [
       "5"
      ]
     },
     "execution_count": 65,
     "metadata": {},
     "output_type": "execute_result"
    }
   ],
   "source": [
    "idont_follow = list(idont_follow)\n",
    "len(idont_follow)xs"
   ]
  },
  {
   "cell_type": "code",
   "execution_count": 66,
   "metadata": {},
   "outputs": [
    {
     "data": {
      "text/plain": [
       "['value\": \"sripradha20\",\\n',\n",
       " 'value\": \"rishindraw\",\\n',\n",
       " 'value\": \"rashmi_jadav22\",',\n",
       " 'value\": \"khushboodesai.56',\n",
       " 'value\": \"mariyabharucha\",']"
      ]
     },
     "execution_count": 66,
     "metadata": {},
     "output_type": "execute_result"
    }
   ],
   "source": [
    "idont_follow"
   ]
  },
  {
   "cell_type": "code",
   "execution_count": null,
   "metadata": {},
   "outputs": [],
   "source": []
  }
 ],
 "metadata": {
  "kernelspec": {
   "display_name": "Python 3",
   "language": "python",
   "name": "python3"
  },
  "language_info": {
   "codemirror_mode": {
    "name": "ipython",
    "version": 3
   },
   "file_extension": ".py",
   "mimetype": "text/x-python",
   "name": "python",
   "nbconvert_exporter": "python",
   "pygments_lexer": "ipython3",
   "version": "3.8.3"
  }
 },
 "nbformat": 4,
 "nbformat_minor": 4
}
