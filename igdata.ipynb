{
 "cells": [
  {
   "cell_type": "code",
   "execution_count": 1,
   "metadata": {},
   "outputs": [],
   "source": [
    "import os\n",
    "import re\n",
    "import datetime\n",
    "import pandas as pd\n",
    "import numpy as np\n",
    "import matplotlib.pyplot as plt"
   ]
  },
  {
   "cell_type": "code",
   "execution_count": 2,
   "metadata": {},
   "outputs": [],
   "source": [
    "filename_them = '/Users/haelyshah/Downloads//followers_and_following/followers.json'\n",
    "with open(filename_them) as f:\n",
    "    followers = f.readlines()"
   ]
  },
  {
   "cell_type": "code",
   "execution_count": 3,
   "metadata": {},
   "outputs": [],
   "source": [
    "filename_me = '/Users/haelyshah/Downloads//followers_and_following/following.json'\n",
    "with open(filename_me) as f:\n",
    "    following = f.readlines()"
   ]
  },
  {
   "cell_type": "code",
   "execution_count": 4,
   "metadata": {},
   "outputs": [],
   "source": [
    "followers_list = []\n",
    "import time \n",
    "import datetime \n",
    " \n",
    "for follower in followers:\n",
    "    #print(follower)\n",
    "    #followers_list = []\n",
    "    follower_i = follower.find('value')\n",
    "    follower_name = str(follower[follower_i: follower_i+25])\n",
    "\n",
    "    #follower_name = (follower.get('string_list_data', {}).get('value'))\n",
    "    \n",
    "    \n",
    "    #print(follower_name)\n",
    "    followers_list.append(follower_name)\n",
    "followers_list=set(followers_list)\n",
    "followers_list=list(followers_list)"
   ]
  },
  {
   "cell_type": "code",
   "execution_count": 5,
   "metadata": {},
   "outputs": [
    {
     "data": {
      "text/plain": [
       "420"
      ]
     },
     "execution_count": 5,
     "metadata": {},
     "output_type": "execute_result"
    }
   ],
   "source": [
    "len(followers_list)"
   ]
  },
  {
   "cell_type": "code",
   "execution_count": null,
   "metadata": {},
   "outputs": [],
   "source": []
  },
  {
   "cell_type": "code",
   "execution_count": 6,
   "metadata": {},
   "outputs": [],
   "source": [
    "following_list = []\n",
    "import time \n",
    "import datetime \n",
    " \n",
    "for follower in following:\n",
    "    #print(follower)\n",
    "    #followers_list = []\n",
    "    follower_i = follower.find('value')\n",
    "    follower_name = str(follower[follower_i: follower_i+25])\n",
    "\n",
    "    #follower_name = (follower.get('string_list_data', {}).get('value'))\n",
    "    \n",
    "    \n",
    "    # print(follower_name)\n",
    "    following_list.append(follower_name)\n",
    "following_list=set(following_list)\n",
    "following_list=list(following_list)"
   ]
  },
  {
   "cell_type": "code",
   "execution_count": 7,
   "metadata": {},
   "outputs": [
    {
     "data": {
      "text/plain": [
       "509"
      ]
     },
     "execution_count": 7,
     "metadata": {},
     "output_type": "execute_result"
    }
   ],
   "source": [
    "len(following_list)"
   ]
  },
  {
   "cell_type": "code",
   "execution_count": 8,
   "metadata": {},
   "outputs": [],
   "source": [
    "dont_follow_back = set(following_list).difference(followers_list)"
   ]
  },
  {
   "cell_type": "code",
   "execution_count": 9,
   "metadata": {},
   "outputs": [
    {
     "data": {
      "text/plain": [
       "94"
      ]
     },
     "execution_count": 9,
     "metadata": {},
     "output_type": "execute_result"
    }
   ],
   "source": [
    "dont_follow_back = list(dont_follow_back)\n",
    "len(dont_follow_back)"
   ]
  },
  {
   "cell_type": "code",
   "execution_count": null,
   "metadata": {},
   "outputs": [],
   "source": [
    "dont_follow_back"
   ]
  },
  {
   "cell_type": "code",
   "execution_count": 11,
   "metadata": {},
   "outputs": [],
   "source": [
    "idont_follow = set(followers_list).difference(following_list)"
   ]
  },
  {
   "cell_type": "code",
   "execution_count": 14,
   "metadata": {},
   "outputs": [
    {
     "data": {
      "text/plain": [
       "5"
      ]
     },
     "execution_count": 14,
     "metadata": {},
     "output_type": "execute_result"
    }
   ],
   "source": [
    "idont_follow = list(idont_follow)\n",
    "len(idont_follow)"
   ]
  },
  {
   "cell_type": "code",
   "execution_count": null,
   "metadata": {},
   "outputs": [],
   "source": [
    "idont_follow"
   ]
  },
  {
   "cell_type": "code",
   "execution_count": null,
   "metadata": {},
   "outputs": [],
   "source": []
  }
 ],
 "metadata": {
  "kernelspec": {
   "display_name": "Python 3",
   "language": "python",
   "name": "python3"
  },
  "language_info": {
   "codemirror_mode": {
    "name": "ipython",
    "version": 3
   },
   "file_extension": ".py",
   "mimetype": "text/x-python",
   "name": "python",
   "nbconvert_exporter": "python",
   "pygments_lexer": "ipython3",
   "version": "3.8.3"
  }
 },
 "nbformat": 4,
 "nbformat_minor": 4
}
